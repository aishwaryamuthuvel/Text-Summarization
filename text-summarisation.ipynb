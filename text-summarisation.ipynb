{
 "cells": [
  {
   "cell_type": "code",
   "execution_count": 57,
   "metadata": {},
   "outputs": [],
   "source": [
    "import glob\n",
    "\n",
    "from word2vec_doc import Word2VecModel, Word2VecDoc\n",
    "from doc import Doc\n",
    "from scorer import Scorer\n",
    "\n",
    "def filecontent(filename):\n",
    "    #print(\"opening: \", filename)\n",
    "    content = ''\n",
    "    with open(filename) as f:\n",
    "        content = f.read()\n",
    "    return content\n",
    "\n",
    "#TODO extract summary types?\n",
    "#TODO build drop_punct and drop_stop_words - DONE\n",
    "#TODO build with_article_text\n",
    "#TODO run against train, val, test sets - DONE\n",
    "#TODO - split building summaries and saving to file  THEN run validation on saved summaries\n",
    "#TODO - work out divide by zero issue / nan cosine\n",
    "\n",
    "def basic_summaries(model, path, drop_punct=False, drop_common=False):\n",
    "    scorer = Scorer()\n",
    "    articles = glob.glob(path)\n",
    "\n",
    "    for article in articles:\n",
    "        c = filecontent(article)\n",
    "        doc = Doc.build(c)\n",
    "        if drop_punct:\n",
    "            doc.strip_punctuation()\n",
    "        if drop_common:\n",
    "            doc.strip_common_words()\n",
    "    \n",
    "        wv_doc = Word2VecDoc.build(model, doc)\n",
    "\n",
    "        # mapping from sentence number to word2vec cosine similarity\n",
    "        sentence_rank = []\n",
    "        for i,ts in enumerate(doc.tokenised_sentences):\n",
    "            sentence_rank.append([i, wv_doc.similarity(ts)])\n",
    "\n",
    "        # order by cosine similarity\n",
    "        ordered_sentences = sorted(sentence_rank, key=lambda x: x[1], reverse=True)\n",
    "    \n",
    "        # build the resulting summary\n",
    "        result = doc.sentences[ordered_sentences[0][0]]\n",
    "        i = 1\n",
    "        while len(result) < 1600 and i<len(ordered_sentences):\n",
    "            result += ' ' + doc.sentences[ordered_sentences[i][0]]\n",
    "            i += 1\n",
    "        print(result)\n",
    "    \n",
    "        # validate against reference file\n",
    "        ref_name = article.replace(\"News Article\",\"Summaries\",1)\n",
    "        reference = filecontent(ref_name)\n",
    "    \n",
    "        ref_doc = Doc.build(reference)\n",
    "        wv_ref_doc = Word2VecDoc.build(model, ref_doc)\n",
    "    \n",
    "        scorer.add(result, reference, wv_doc.similar_to(wv_ref_doc.doc_vector))\n",
    "    \n",
    "    return scorer.averages()\n"
   ]
  },
  {
   "cell_type": "markdown",
   "metadata": {},
   "source": [
    "# Brown Model"
   ]
  },
  {
   "cell_type": "code",
   "execution_count": 4,
   "metadata": {},
   "outputs": [
    {
     "name": "stdout",
     "output_type": "stream",
     "text": [
      "Average scores for single training data\n",
      "{'rouge-1': {'f': 0.6339626676410022, 'p': 0.5290867872744981, 'r': 0.8172959038687939}, 'rouge-2': {'f': 0.5364965543545195, 'p': 0.43682566859663635, 'r': 0.7338738533140157}, 'rouge-l': {'f': 0.5734875978404441, 'p': 0.5267544059335487, 'r': 0.8137633797480344}, 'cosine': 0.9772376094227511}\n"
     ]
    }
   ],
   "source": [
    "model = Word2VecModel.build_brown_model()\n",
    "\n",
    "print(\"Average scores for single training data\")\n",
    "print(basic_summaries(model,\"./News Articles/*/Training/001.txt\"))\n"
   ]
  },
  {
   "cell_type": "markdown",
   "metadata": {},
   "source": [
    "All data...\n",
    "\n",
    "{'rouge-1': {'f': 0.6543733394817078, 'p': 0.5412527577174195, 'r': 0.8686513312834784}, 'rouge-2': {'f': 0.56886931959749, 'p': 0.4602217950850871, 'r': 0.7975526243518252}, 'rouge-l': {'f': 0.5818416467919256, 'p': 0.5378988721498956, 'r': 0.864464556732853}}"
   ]
  },
  {
   "cell_type": "code",
   "execution_count": null,
   "metadata": {},
   "outputs": [],
   "source": [
    "model = Word2VecModel.build_brown_model()\n",
    "\n",
    "print(\"Average scores for all training data\")\n",
    "print(basic_summaries(model, \"./News Articles/*/Training/*.txt\"))\n"
   ]
  },
  {
   "cell_type": "code",
   "execution_count": null,
   "metadata": {},
   "outputs": [],
   "source": [
    "model = Word2VecModel.build_brown_model()\n",
    "\n",
    "print(\"Average scores for all validation data\")\n",
    "print(basic_summaries(model,\"./News Articles/*/Validation/*.txt\"))\n"
   ]
  },
  {
   "cell_type": "code",
   "execution_count": null,
   "metadata": {},
   "outputs": [],
   "source": [
    "model = Word2VecModel.build_brown_model()\n",
    "\n",
    "print(\"Average scores for final test data\")\n",
    "print(basic_summaries(model, \"./News Articles/*/Testing/*.txt\"))\n"
   ]
  },
  {
   "cell_type": "markdown",
   "metadata": {},
   "source": [
    "# Reuters Model"
   ]
  },
  {
   "cell_type": "code",
   "execution_count": 2,
   "metadata": {},
   "outputs": [
    {
     "name": "stdout",
     "output_type": "stream",
     "text": [
      "Average scores for all training data\n"
     ]
    },
    {
     "name": "stderr",
     "output_type": "stream",
     "text": [
      "C:\\Users\\patri\\Dropbox\\Software\\Masters\\Natural Language\\summarisation\\word2vec_doc.py:76: RuntimeWarning: invalid value encountered in true_divide\n",
      "  s_vector = s_vector / s_count\n"
     ]
    },
    {
     "name": "stdout",
     "output_type": "stream",
     "text": [
      "{'rouge-1': {'f': 0.6525187391119968, 'p': 0.539012385733829, 'r': 0.868348460068383}, 'rouge-2': {'f': 0.5672608635815085, 'p': 0.4582970071062302, 'r': 0.7975077448662234}, 'rouge-l': {'f': 0.5794827074299134, 'p': 0.5357427628124779, 'r': 0.864229339908405}, 'cosine': nan}\n"
     ]
    }
   ],
   "source": [
    "model = Word2VecModel.build_reuters_model()\n",
    "\n",
    "print(\"Average scores for all training data\")\n",
    "print(basic_summaries(model, \"./News Articles/*/Training/*.txt\"))"
   ]
  },
  {
   "cell_type": "markdown",
   "metadata": {},
   "source": [
    "# Augmenting existing model with training article sentences"
   ]
  },
  {
   "cell_type": "code",
   "execution_count": null,
   "metadata": {},
   "outputs": [],
   "source": [
    "def add_sentences_to_model(model, path):\n",
    "    articles = glob.glob(path)\n",
    "    for article in articles:\n",
    "        c = filecontent(article)\n",
    "        doc = Doc.build(c)\n",
    "        model.train(doc.tokenised_sentences, epochs=model.iter)\n",
    "\n"
   ]
  },
  {
   "cell_type": "markdown",
   "metadata": {},
   "source": [
    "# Dropping punctuation, common words or both"
   ]
  },
  {
   "cell_type": "code",
   "execution_count": 4,
   "metadata": {},
   "outputs": [
    {
     "name": "stdout",
     "output_type": "stream",
     "text": [
      "Average scores for all training data\n",
      "{'rouge-1': {'f': 0.7085020197163534, 'p': 1.0, 'r': 0.54858934169279}, 'rouge-2': {'f': 0.6277372218911503, 'p': 0.9662921348314607, 'r': 0.4648648648648649}, 'rouge-l': {'f': 0.6125556679501356, 'p': 1.0, 'r': 0.54858934169279}, 'cosine': 1.0}\n"
     ]
    }
   ],
   "source": [
    "model = Word2VecModel.build_reuters_model()\n",
    "\n",
    "print(\"Average scores for all training data\")\n",
    "print(basic_summaries(model, \"../News Article/Business/Testing/015.txt\"))"
   ]
  },
  {
   "cell_type": "code",
   "execution_count": 27,
   "metadata": {},
   "outputs": [
    {
     "name": "stdout",
     "output_type": "stream",
     "text": [
      "Average scores for all training data\n",
      "Andy Clarke, ERAA director of air transport, said that the EC advice misleads customers as it leads them to believe that airlines could be liable for payouts if flights are delayed because of bad weather. The ERAA's Mr Clarke also warned that while airlines would comply with the new rules, the extra costs would be passed onto passengers. Airlines fear that \"extraordinary circumstances\" may not include bad weather, security alerts or strikes - events which are outside of their control. In addition, if a flight is cancelled or delayed for more than two hours through the fault of the airline, all passengers must be paid compensation. \"The boom in air travel needs to be accompanied by proper protection of passengers' right.\" \"We reckon it's going to cost European air passengers - not the airlines, the airlines have no money, it has to be paid by passengers - 1.5bn euros, that's over Â£1bn a year loaded onto European passengers,\" Mr Clarke said. New technology means it is easier for airlines to take off and land in bad weather, she added. \"That's basically a transfer of money from passengers whose journeys are not disrupted to passengers whose journeys are disrupted.\" Air passengers who are unable to board their flights because of overbooking, cancellations or flight delays can now demand greater compensation. However, only scheduled flight operators were obliged to offer compensation in cases of overbooking and they did not have to offer compensation for flight cancellations. The new rules will apply to all scheduled and charter flights, including budget airlines.\n",
      "{'rouge-1': {'f': 0.6790890224300332, 'p': 1.0, 'r': 0.5141065830721003}, 'rouge-2': {'f': 0.6019900454755143, 'p': 0.9718875502008032, 'r': 0.436036036036036}, 'rouge-l': {'f': 0.5722322011489754, 'p': 1.0, 'r': 0.5141065830721003}, 'cosine': 1.0}\n"
     ]
    }
   ],
   "source": [
    "model = Word2VecModel.build_brown_model()\n",
    "\n",
    "print(\"Average scores for all training data\")\n",
    "print(basic_summaries(model, \"../News Article/Business/Testing/015.txt\"))"
   ]
  },
  {
   "cell_type": "code",
   "execution_count": 29,
   "metadata": {},
   "outputs": [
    {
     "name": "stdout",
     "output_type": "stream",
     "text": [
      "Average scores for all training data\n",
      "Andy Clarke, ERAA director of air transport, said that the EC advice misleads customers as it leads them to believe that airlines could be liable for payouts if flights are delayed because of bad weather. The ERAA's Mr Clarke also warned that while airlines would comply with the new rules, the extra costs would be passed onto passengers. Airlines fear that \"extraordinary circumstances\" may not include bad weather, security alerts or strikes - events which are outside of their control. In addition, if a flight is cancelled or delayed for more than two hours through the fault of the airline, all passengers must be paid compensation. \"The boom in air travel needs to be accompanied by proper protection of passengers' right.\" \"We reckon it's going to cost European air passengers - not the airlines, the airlines have no money, it has to be paid by passengers - 1.5bn euros, that's over Â£1bn a year loaded onto European passengers,\" Mr Clarke said. New technology means it is easier for airlines to take off and land in bad weather, she added. \"That's basically a transfer of money from passengers whose journeys are not disrupted to passengers whose journeys are disrupted.\" Air passengers who are unable to board their flights because of overbooking, cancellations or flight delays can now demand greater compensation. However, only scheduled flight operators were obliged to offer compensation in cases of overbooking and they did not have to offer compensation for flight cancellations. The new rules will apply to all scheduled and charter flights, including budget airlines. On Wednesday, Jacques Barrot, vice president of the European Commission and also Commissioner for Transport, said that the changes were necessary.\n",
      "{'rouge-1': {'f': 0.7085020197163534, 'p': 1.0, 'r': 0.54858934169279}, 'rouge-2': {'f': 0.6301703119154812, 'p': 0.9700374531835206, 'r': 0.4666666666666667}, 'rouge-l': {'f': 0.6125556679501356, 'p': 1.0, 'r': 0.54858934169279}, 'cosine': 1.0}\n"
     ]
    }
   ],
   "source": [
    "model = Word2VecModel.build_brown_model()\n",
    "\n",
    "print(\"Average scores for all training data\")\n",
    "print(basic_summaries(model, \"../News Article/Business/Testing/015.txt\"))"
   ]
  },
  {
   "cell_type": "code",
   "execution_count": 31,
   "metadata": {},
   "outputs": [
    {
     "name": "stdout",
     "output_type": "stream",
     "text": [
      "Average scores for all training data\n",
      "Andy Clarke, ERAA director of air transport, said that the EC advice misleads customers as it leads them to believe that airlines could be liable for payouts if flights are delayed because of bad weather. However, only scheduled flight operators were obliged to offer compensation in cases of overbooking and they did not have to offer compensation for flight cancellations. The ERAA's Mr Clarke also warned that while airlines would comply with the new rules, the extra costs would be passed onto passengers. Airlines fear that \"extraordinary circumstances\" may not include bad weather, security alerts or strikes - events which are outside of their control. \"The boom in air travel needs to be accompanied by proper protection of passengers' right.\" Air passengers who are unable to board their flights because of overbooking, cancellations or flight delays can now demand greater compensation. \"That's basically a transfer of money from passengers whose journeys are not disrupted to passengers whose journeys are disrupted.\" New technology means it is easier for airlines to take off and land in bad weather, she added. On Wednesday, Jacques Barrot, vice president of the European Commission and also Commissioner for Transport, said that the changes were necessary. However, airlines do not have to offer compensation if flights are cancelled or delayed due to \"extraordinary circumstances\".\n",
      "{'rouge-1': {'f': 0.6100217822527898, 'p': 1.0, 'r': 0.438871473354232}, 'rouge-2': {'f': 0.5125495337358585, 'p': 0.9603960396039604, 'r': 0.34954954954954953}, 'rouge-l': {'f': 0.48260683713716984, 'p': 1.0, 'r': 0.438871473354232}, 'cosine': 0.9585478151117235}\n"
     ]
    }
   ],
   "source": [
    "model = Word2VecModel.build_brown_model()\n",
    "\n",
    "print(\"Average scores for all training data\")\n",
    "print(basic_summaries2(model, \"../News Article/Business/Testing/015.txt\",True,True))"
   ]
  },
  {
   "cell_type": "code",
   "execution_count": 12,
   "metadata": {},
   "outputs": [
    {
     "name": "stdout",
     "output_type": "stream",
     "text": [
      "Average scores for all training data\n",
      "Andy Clarke, ERAA director of air transport, said that the EC advice misleads customers as it leads them to believe that airlines could be liable for payouts if flights are delayed because of bad weather. The ERAA's Mr Clarke also warned that while airlines would comply with the new rules, the extra costs would be passed onto passengers. \"The boom in air travel needs to be accompanied by proper protection of passengers' right.\" On Wednesday, Jacques Barrot, vice president of the European Commission and also Commissioner for Transport, said that the changes were necessary. New technology means it is easier for airlines to take off and land in bad weather, she added. However, only scheduled flight operators were obliged to offer compensation in cases of overbooking and they did not have to offer compensation for flight cancellations. Airlines fear that \"extraordinary circumstances\" may not include bad weather, security alerts or strikes - events which are outside of their control. In addition, if a flight is cancelled or delayed for more than two hours through the fault of the airline, all passengers must be paid compensation. \"We reckon it's going to cost European air passengers - not the airlines, the airlines have no money, it has to be paid by passengers - 1.5bn euros, that's over Â£1bn a year loaded onto European passengers,\" Mr Clarke said. Airlines have attacked the legislation saying they could be forced to push prices higher to cover the extra cost. \"That's basically a transfer of money from passengers whose journeys are not disrupted to passengers whose journeys are disrupted.\"\n",
      "{'rouge-1': {'f': 0.6845360779718144, 'p': 1.0, 'r': 0.5203761755485894}, 'rouge-2': {'f': 0.5987577596929131, 'p': 0.964, 'r': 0.43423423423423424}, 'rouge-l': {'f': 0.5796141624695799, 'p': 1.0, 'r': 0.5203761755485894}, 'cosine': 0.9795594702972192}\n"
     ]
    }
   ],
   "source": [
    "model = Word2VecModel.build_brown_model()\n",
    "\n",
    "print(\"Average scores for all training data\")\n",
    "print(basic_summaries(model, \"../News Article/Business/Testing/015.txt\",True,False))"
   ]
  },
  {
   "cell_type": "code",
   "execution_count": 13,
   "metadata": {},
   "outputs": [
    {
     "name": "stdout",
     "output_type": "stream",
     "text": [
      "Average scores for all training data\n",
      "Andy Clarke, ERAA director of air transport, said that the EC advice misleads customers as it leads them to believe that airlines could be liable for payouts if flights are delayed because of bad weather. The ERAA's Mr Clarke also warned that while airlines would comply with the new rules, the extra costs would be passed onto passengers. Airlines fear that \"extraordinary circumstances\" may not include bad weather, security alerts or strikes - events which are outside of their control. However, only scheduled flight operators were obliged to offer compensation in cases of overbooking and they did not have to offer compensation for flight cancellations. Air passengers who are unable to board their flights because of overbooking, cancellations or flight delays can now demand greater compensation. \"That's basically a transfer of money from passengers whose journeys are not disrupted to passengers whose journeys are disrupted.\" \"We reckon it's going to cost European air passengers - not the airlines, the airlines have no money, it has to be paid by passengers - 1.5bn euros, that's over Â£1bn a year loaded onto European passengers,\" Mr Clarke said. \"The boom in air travel needs to be accompanied by proper protection of passengers' right.\" In addition, if a flight is cancelled or delayed for more than two hours through the fault of the airline, all passengers must be paid compensation. New technology means it is easier for airlines to take off and land in bad weather, she added. However, airlines do not have to offer compensation if flights are cancelled or delayed due to \"extraordinary circumstances\".\n",
      "{'rouge-1': {'f': 0.6652719620874109, 'p': 1.0, 'r': 0.49843260188087773}, 'rouge-2': {'f': 0.5882352898751725, 'p': 0.9631147540983607, 'r': 0.42342342342342343}, 'rouge-l': {'f': 0.5536974173003469, 'p': 1.0, 'r': 0.49843260188087773}, 'cosine': 0.9849506771494545}\n"
     ]
    }
   ],
   "source": [
    "model = Word2VecModel.build_brown_model()\n",
    "\n",
    "print(\"Average scores for all training data\")\n",
    "print(basic_summaries(model, \"../News Article/Business/Testing/015.txt\",False,True))"
   ]
  },
  {
   "cell_type": "code",
   "execution_count": 30,
   "metadata": {},
   "outputs": [],
   "source": [
    "import glob\n",
    "\n",
    "from word2vec_doc import Word2VecModel, Word2VecDoc\n",
    "from doc import Doc\n",
    "from scorer import Scorer\n",
    "\n",
    "def filecontent(filename):\n",
    "    #print(\"opening: \", filename)\n",
    "    content = ''\n",
    "    with open(filename) as f:\n",
    "        content = f.read()\n",
    "    return content\n",
    "\n",
    "#TODO extract summary types?\n",
    "#TODO build drop_punct and drop_stop_words - DONE\n",
    "#TODO build with_article_text\n",
    "#TODO run against train, val, test sets - DONE\n",
    "#TODO - split building summaries and saving to file  THEN run validation on saved summaries\n",
    "#TODO - work out divide by zero issue / nan cosine\n",
    "\n",
    "def basic_summaries2(model, path, drop_punct=False, drop_common=False):\n",
    "    scorer = Scorer()\n",
    "    articles = glob.glob(path)\n",
    "\n",
    "    for article in articles:\n",
    "        c = filecontent(article)\n",
    "        doc = Doc.build(c)\n",
    "        if drop_punct:\n",
    "            doc.strip_punctuation()\n",
    "        if drop_common:\n",
    "            doc.strip_common_words()\n",
    "    \n",
    "        wv_doc = Word2VecDoc.build(model, doc)\n",
    "\n",
    "        # mapping from sentence number to word2vec cosine similarity\n",
    "        sentence_rank = []\n",
    "        for i,ts in enumerate(doc.tokenised_sentences):\n",
    "            sentence_rank.append([i, wv_doc.similarity(ts)])\n",
    "\n",
    "        # order by cosine similarity\n",
    "        ordered_sentences = sorted(sentence_rank, key=lambda x: x[1], reverse=True)\n",
    "    \n",
    "        # build the resulting summary\n",
    "        result = doc.sentences[ordered_sentences[0][0]]\n",
    "        i = 1\n",
    "        while len(result) < (len(c)/2.8) and i<len(ordered_sentences):\n",
    "            result += ' ' + doc.sentences[ordered_sentences[i][0]]\n",
    "            i += 1\n",
    "        print(result)\n",
    "    \n",
    "        # validate against reference file\n",
    "        ref_name = article.replace(\"News Articles\",\"Summaries\",1)\n",
    "        reference = filecontent(ref_name)\n",
    "    \n",
    "        ref_doc = Doc.build(reference)\n",
    "        wv_ref_doc = Word2VecDoc.build(model, ref_doc)\n",
    "    \n",
    "        scorer.add(result, reference, wv_doc.similar_to(wv_ref_doc.doc_vector))\n",
    "    \n",
    "    return scorer.averages()\n"
   ]
  },
  {
   "cell_type": "code",
   "execution_count": 24,
   "metadata": {},
   "outputs": [
    {
     "name": "stdout",
     "output_type": "stream",
     "text": [
      "1330\n",
      "11\n",
      "469\n",
      "4\n"
     ]
    }
   ],
   "source": [
    "c = filecontent(\"../News Article/Tech/Training/003.txt\")\n",
    "print(len(c))\n",
    "doc = Doc.build(c)\n",
    "print(len(doc.sentences))\n",
    "\n",
    "\n",
    "c1 = filecontent(\"../Summaries/Tech/Training/003.txt\")\n",
    "c1 = c1.replace('.','. ')\n",
    "print(len(c1))\n",
    "doc = Doc.build(c1)\n",
    "print(len(doc.sentences))\n",
    "    "
   ]
  },
  {
   "cell_type": "code",
   "execution_count": 58,
   "metadata": {},
   "outputs": [],
   "source": [
    "import glob\n",
    "\n",
    "from word2vec_doc import Word2VecModel, Word2VecDoc\n",
    "from doc import Doc\n",
    "from scorer import Scorer\n",
    "\n",
    "def filecontent(filename):\n",
    "    print(\"opening: \", filename,\"\\n\")\n",
    "    content = ''\n",
    "    with open(filename) as f:\n",
    "        content = f.read()\n",
    "    return content\n",
    "\n",
    "#TODO extract summary types?\n",
    "#TODO build drop_punct and drop_stop_words - DONE\n",
    "#TODO build with_article_text\n",
    "#TODO run against train, val, test sets - DONE\n",
    "#TODO - split building summaries and saving to file  THEN run validation on saved summaries\n",
    "#TODO - work out divide by zero issue / nan cosine\n",
    "\n",
    "def basic_summaries3(model, path, drop_punct=False, drop_common=False):\n",
    "    scorer = Scorer()\n",
    "    articles = glob.glob(path)\n",
    "\n",
    "    for article in articles:\n",
    "        c = filecontent(article)\n",
    "        doc = Doc.build(c)\n",
    "        if drop_punct:\n",
    "            doc.strip_punctuation()\n",
    "        if drop_common:\n",
    "            doc.strip_common_words()\n",
    "    \n",
    "        wv_doc = Word2VecDoc.build(model, doc)\n",
    "\n",
    "        # mapping from sentence number to word2vec cosine similarity\n",
    "        sentence_rank = []\n",
    "        for i,ts in enumerate(doc.tokenised_sentences):\n",
    "            sentence_rank.append([i, wv_doc.similarity(ts)])\n",
    "\n",
    "        # order by cosine similarity\n",
    "        ordered_sentences = sorted(sentence_rank, key=lambda x: x[1], reverse=True)\n",
    "        \n",
    "        # build the resulting summary\n",
    "        result_order = []\n",
    "        result_order.append(ordered_sentences[0][0])\n",
    "        result = doc.sentences[ordered_sentences[0][0]]\n",
    "        i = 1\n",
    "        while len(result) < 1600 and i<len(ordered_sentences):\n",
    "            result_order.append(ordered_sentences[i][0])\n",
    "            result += ' ' + doc.sentences[ordered_sentences[i][0]]\n",
    "            i += 1\n",
    "        \n",
    "        #Ordering the sentences in the result according to the source text\n",
    "        result_order.sort()\n",
    "        #print(result_order)\n",
    "        \n",
    "        result = doc.sentences[0]+\"\\n\"\n",
    "        for i in range(len(result_order)):\n",
    "            if i == 0:\n",
    "                result += \"\\n\" + doc.sentences[result_order[i]]\n",
    "            else:    \n",
    "                result += ' ' + doc.sentences[result_order[i]]            \n",
    "        print(result,\"\\n\")\n",
    "        # validate against reference file\n",
    "        ref_name = article.replace(\"News Article\",\"Summaries\",1)\n",
    "        reference = filecontent(ref_name)\n",
    "    \n",
    "        ref_doc = Doc.build(reference)\n",
    "        wv_ref_doc = Word2VecDoc.build(model, ref_doc)\n",
    "    \n",
    "        scorer.add(result, reference, wv_doc.similar_to(wv_ref_doc.doc_vector))\n",
    "        \n",
    "        print(reference)\n",
    "        \n",
    "    return scorer.averages()\n"
   ]
  },
  {
   "cell_type": "code",
   "execution_count": 60,
   "metadata": {},
   "outputs": [
    {
     "name": "stdout",
     "output_type": "stream",
     "text": [
      "opening:  ../News Article/Business/Training/020.txt \n",
      "\n",
      "Call centre users 'lose patience'.\n",
      "\n",
      "\"Customers are getting used to the idea of an 'always available' society,\" says Cara Diemont of IT firm Dimension Data, which commissioned the survey. When automated phone message systems are taken out of the equation, where customers have to pick their way through multiple options and messages, the number of abandoned calls is even higher - a sixth of all callers give up rather than wait. One possible reason for the lack in patience, Ms Diemont says, is the fact that more customers are calling 'on the move' using their mobile phones. The surge in customers trying to get through to call centres is also a reflection of the centres' growing range of tasks. In what Dimension Data calls an \"alarming development\", the average induction time for a call centre worker fell last year from 36 to just 21 days, leaving \"agents not equipped to deal with customers\". As a result, call centres have a high \"churn rate\", with nearly a quarter of workers throwing in the towel every year, which in turn forces companies to pay for training new staff. When the query is passed on to a second or third person - a specialist or manager - rates rise to about 70%, but that is still well below the industry target of an 85% resolution rate. There are \"no big differences in wait time and call resolution\" between call centres based in Europe or North America and those in developing countries around the world. However, companies that decide to \"offshore\" their operations are driven not just by cost considerations. Only 42% of them say that saving money is the main consideration when closing domestic call centre operations. Half of them argue that workers in other countries offer better skills for the money. \n",
      "\n",
      "opening:  ../Summaries/Business/Training/020.txt \n",
      "\n",
      "The drop in patience comes as the number of calls to call centres is growing at a rate of 20% every year.Poor training frustrates both call centre workers and customers.In what Dimension Data calls an \"alarming development\", the average induction time for a call centre worker fell last year from 36 to just 21 days, leaving \"agents not equipped to deal with customers\".And if you work in a call centre: did your training prepare you for your job?There are \"no big differences in wait time and call resolution\" between call centres based in Europe or North America and those in developing countries around the world.Customers trying to get through to call centres are getting impatient and quicker to hang up, a survey suggests.Suggestions that \"outsourcing\" - relocating call centres to low-cost countries like India or South Africa - is to blame are wrong, Ms Diemont says.The surge in customers trying to get through to call centres is also a reflection of the centres' growing range of tasks.What are your experiences with call centres?However, call centres also saw a sharp increase of customers simply abandoning calls, she says, from just over 5% in 2003 to a record 13.3% during last year.The survey was conducted by Sunovate on behalf of Dimension Data, and is based on in-depth questionnaires of 166 call centres in 24 countries and five continents.As a result, call centres have a high \"churn rate\", with nearly a quarter of workers throwing in the towel every year, which in turn forces companies to pay for training new staff.\n",
      "{'rouge-1': {'f': 0.5626740897550454, 'p': 0.5126903553299492, 'r': 0.6234567901234568}, 'rouge-2': {'f': 0.430426711167179, 'p': 0.4013840830449827, 'r': 0.464}, 'rouge-l': {'f': 0.5413382022757234, 'p': 0.5025380710659898, 'r': 0.6111111111111112}, 'cosine': 0.9896161300923307}\n"
     ]
    },
    {
     "data": {
      "text/plain": [
       "{'rouge-1': {'f': 0.5626740897550454,\n",
       "  'p': 0.5126903553299492,\n",
       "  'r': 0.6234567901234568},\n",
       " 'rouge-2': {'f': 0.430426711167179, 'p': 0.4013840830449827, 'r': 0.464},\n",
       " 'rouge-l': {'f': 0.5413382022757234,\n",
       "  'p': 0.5025380710659898,\n",
       "  'r': 0.6111111111111112},\n",
       " 'cosine': 0.9896161300923307}"
      ]
     },
     "execution_count": 60,
     "metadata": {},
     "output_type": "execute_result"
    }
   ],
   "source": [
    "model = Word2VecModel.build_reuters_model()\n",
    "\n",
    "x = basic_summaries3(model, \"../News Article/Business/Training/020.txt\")\n",
    "\n",
    "#print(\"Average scores for all training data\")\n",
    "print(x)\n",
    "\n",
    "{'rouge-1': {'f': 0.5626740897550454, 'p': 0.5126903553299492, 'r': 0.6234567901234568}, 'rouge-2': {'f': 0.430426711167179, 'p': 0.4013840830449827, 'r': 0.464}, 'rouge-l': {'f': 0.5413382022757234, 'p': 0.5025380710659898, 'r': 0.6111111111111112}, 'cosine': 0.9896161300923307}"
   ]
  }
 ],
 "metadata": {
  "kernelspec": {
   "display_name": "Python 3",
   "language": "python",
   "name": "python3"
  },
  "language_info": {
   "codemirror_mode": {
    "name": "ipython",
    "version": 3
   },
   "file_extension": ".py",
   "mimetype": "text/x-python",
   "name": "python",
   "nbconvert_exporter": "python",
   "pygments_lexer": "ipython3",
   "version": "3.7.3"
  }
 },
 "nbformat": 4,
 "nbformat_minor": 2
}
